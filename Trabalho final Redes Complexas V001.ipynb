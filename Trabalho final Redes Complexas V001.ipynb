{
  "nbformat": 4,
  "nbformat_minor": 0,
  "metadata": {
    "colab": {
      "provenance": []
    },
    "kernelspec": {
      "name": "python3",
      "display_name": "Python 3"
    },
    "language_info": {
      "name": "python"
    }
  },
  "cells": [
    {
      "cell_type": "markdown",
      "source": [
        "\n",
        "\n",
        "# **Synchronization in Complex Networks and Applications**\n",
        "\n",
        "\n",
        "---\n",
        "\n",
        "\n",
        "\n",
        "\n",
        "\n",
        "Victor Hugo F. Francheto\n",
        "\n",
        "University of São Paulo, SP\n",
        "\n",
        "victor.francheto@usp.br\n",
        "\n",
        "\n",
        "\n",
        "Bruno B. Pereira\n",
        "\n",
        "University of São Paulo, SP\n",
        "\n",
        "bruno.pereira@usp.br\n",
        "\n",
        "\n",
        "---\n",
        "\n"
      ],
      "metadata": {
        "id": "luw4E1vpaORi"
      }
    },
    {
      "cell_type": "markdown",
      "source": [
        "**Tema escolhido:**\n",
        "\n",
        "### **5 - Como a sincronização é inPuenciada pela topologia da rede?**\n",
        "\n",
        "Ver: https://github.com/fabridamicelli/kuramoto\n",
        "\n",
        "Use o artigo:\n",
        "Synchronization in complex networks\n",
        "https://www.sciencedirect.com/science/ar;cle/pii/S0370157308003384\n",
        "\n",
        "Gerar redes usando diferentes modelos e verificar como a sincronização muda de acordo com o\n",
        "modelo. Pode ser gerado um gráfico do parâmetro de ordem (r) em função do acomplamento\n",
        "lambda.\n",
        "\n",
        "Analisar como a estrutura de comunidades afeta a sincronização, mudando o parâmetro mu no\n",
        "modelo de LFR que gera redes modulares.\n",
        "\n",
        "---"
      ],
      "metadata": {
        "id": "IyfsqKVXbBRQ"
      }
    },
    {
      "cell_type": "markdown",
      "source": [
        "Iniciamos importando os pacotes basicos para o estudo."
      ],
      "metadata": {
        "id": "7OK-LKaQcDk6"
      }
    },
    {
      "cell_type": "code",
      "execution_count": 1,
      "metadata": {
        "id": "vdyOrnP0aNU7"
      },
      "outputs": [],
      "source": [
        "from pylab import *\n",
        "import numpy as np\n",
        "from numpy import linalg as LA\n",
        "from scipy.integrate import *\n",
        "import matplotlib.pyplot as plt\n",
        "from scipy.special import zeta\n",
        "import networkx as nx\n",
        "import community.community_louvain as community_louvain"
      ]
    },
    {
      "cell_type": "markdown",
      "source": [
        "Para estudar a sincronização em diferentes topologias, utilizaremos o modelo de Kuramoto."
      ],
      "metadata": {
        "id": "qGTMA9tDc8WQ"
      }
    },
    {
      "cell_type": "code",
      "source": [
        "# First-order Kuramoto model\n",
        "def F(Y,t, G, W, lbd):\n",
        "    #global W, N, lbd, G\n",
        "    N = len(G.nodes())\n",
        "    F = zeros((N),float)\n",
        "    S = zeros((N),float)\n",
        "    dg = G.degree()\n",
        "    for i in range(0,N):\n",
        "        for j in G.neighbors(i):\n",
        "            S[i] = S[i] + sin(Y[j]-Y[i]) #\n",
        "    ld = lbd\n",
        "    F = W + ld*S #traditional Kuramoto\n",
        "    return F"
      ],
      "metadata": {
        "id": "8jhR8UGUc2pB"
      },
      "execution_count": 2,
      "outputs": []
    },
    {
      "cell_type": "markdown",
      "source": [
        "Aqui estamos definindo alguns paramentros das redes que analizaremos a sincronização."
      ],
      "metadata": {
        "id": "zsvFeEDolywq"
      }
    },
    {
      "cell_type": "code",
      "source": [
        "#>>Parametros de Rede<<#\n",
        "\n",
        "#Número de nós\n",
        "N = 100\n",
        "\n",
        "# Grau médio\n",
        "av_degree = 15\n",
        "\n",
        "# Probabilidade de conexão para Modelos Erdős–Rényi\n",
        "p = float(av_degree)/float(N)\n",
        "\n",
        "# Número de nós incluídos a cada passo de tempo no modelo Barabasi Albert e Waxman\n",
        "m = int(av_degree/2)\n",
        "\n",
        "# Número de vizinhos no modelo Small Words\n",
        "kappa = av_degree\n",
        "\n",
        "#>>Paremetros de redes com comunidades<<#\n",
        "\n",
        "# Definir tamanhos das partições (comunidades)\n",
        "partition_sizes = [30, 60, 10]\n",
        "\n",
        "# Probabilidade de aresta dentro da mesma comunidade\n",
        "p_in = 0.5\n",
        "\n",
        "# Probabilidade de aresta entre comunidades diferentes\n",
        "p_out = 0.05\n",
        "\n",
        "seed = 42\n",
        "\n",
        "\n",
        "#>>Paremetros de redes com comunidades LFV<<#\n",
        "tau1 = 3\n",
        "tau2 = 1.5\n",
        "mu = 0.1\n",
        "minc = 32\n",
        "maxc = 32"
      ],
      "metadata": {
        "id": "UWKaIeqkkMMR"
      },
      "execution_count": 3,
      "outputs": []
    },
    {
      "cell_type": "code",
      "source": [
        "\n",
        "def rede_com_comunidades(partition_sizes,p_in,p_out,seed):\n",
        "\n",
        "  # Definir tamanhos das partições (comunidades)\n",
        "  partition_sizes = partition_sizes\n",
        "\n",
        "  # Definir probabilidades de conexão\n",
        "  p_in = p_in  # Probabilidade de aresta dentro da mesma comunidade\n",
        "  p_out = p_out # Probabilidade de aresta entre comunidades diferentes\n",
        "\n",
        "  # Gerar o grafo particionado aleatório\n",
        "  G = nx.random_partition_graph(partition_sizes, p_in, p_out, seed=seed)\n",
        "  return G\n",
        "\n",
        "\n"
      ],
      "metadata": {
        "id": "dXNYQ5CWnloZ"
      },
      "execution_count": 4,
      "outputs": []
    },
    {
      "cell_type": "code",
      "source": [
        "def rede_com_comunidades_LFR(N, tau1, tau2, mu, k, minc, maxc)\n",
        "  N = N\n",
        "  tau1 = tau1\n",
        "  tau2 = tau2\n",
        "  mu = mu\n",
        "  k = k\n",
        "  minc = minc\n",
        "  maxc = maxc\n",
        "  G = nx.LFR_benchmark_graph(n = N, tau1 = tau1, tau2 = tau2, mu = mu, min_degree = k,\n",
        "                          max_degree = k, min_community=minc, max_community = maxc, seed = 10)\n",
        "  return G"
      ],
      "metadata": {
        "id": "3gowNfbbP0N7"
      },
      "execution_count": null,
      "outputs": []
    },
    {
      "cell_type": "code",
      "source": [
        "def rede_eros_renie(N,p,seed):\n",
        "  N = N\n",
        "  p = p\n",
        "  seed = seed\n",
        "  G = nx.gnp_random_graph(N, p, seed=seed, directed=False)\n",
        "  return G\n",
        "\n"
      ],
      "metadata": {
        "id": "f_Gt6ael9Q6j"
      },
      "execution_count": 5,
      "outputs": []
    },
    {
      "cell_type": "code",
      "source": [
        "def rede_small_word(N, k, p, seed):\n",
        "  N = N\n",
        "  k = k\n",
        "  p = p\n",
        "  seed = seed\n",
        "  k = int(k)\n",
        "  G = nx.watts_strogatz_graph(N, k, p, seed=seed)\n",
        "  return G\n"
      ],
      "metadata": {
        "id": "gzQ8JlGhpHo_"
      },
      "execution_count": 6,
      "outputs": []
    },
    {
      "cell_type": "code",
      "source": [
        "def rede_barabasi_albert(N,m):\n",
        "   m = m\n",
        "   G = nx.barabasi_albert_graph(N, m)\n",
        "   return G"
      ],
      "metadata": {
        "id": "uQhOHeGdqO9j"
      },
      "execution_count": 7,
      "outputs": []
    },
    {
      "cell_type": "code",
      "source": [
        "def rede_waxman(N,m):\n",
        "   m = m\n",
        "   G = nx.barabasi_albert_graph(N, m)\n",
        "   return G"
      ],
      "metadata": {
        "id": "rBYpQsu7rZ5-"
      },
      "execution_count": 8,
      "outputs": []
    },
    {
      "cell_type": "code",
      "source": [
        "#G = nx.Graph()\n",
        "#G = Rede_Eros_Renie(N,p,seed)\n",
        "#G.remove_edges_from(nx.selfloop_edges(G))\n",
        "#Gcc = sorted(nx.connected_components(G), key=len, reverse=True)\n",
        "#G = G.subgraph(Gcc[0])\n",
        "#G = nx.convert_node_labels_to_integers(G, first_label=0)\n",
        "#pos = nx.spring_layout(G)\n",
        "#nx.draw(G, pos, node_color=\"c\", node_size=10, with_labels=False)"
      ],
      "metadata": {
        "id": "RKvuYpKj8Wq2"
      },
      "execution_count": 9,
      "outputs": []
    },
    {
      "cell_type": "code",
      "source": [
        "\n",
        "def calculando_sincronizacao(G):\n",
        "  G = G.to_undirected() # Remevendo direção da Rede\n",
        "  G = nx.convert_node_labels_to_integers(G, first_label=0) # Convertendo os Labels em inteiros\n",
        "  N = len(G) # Número de Nós\n",
        "\n",
        "  vk = dict(G.degree()) # Grau\n",
        "  vk = list(vk.values()) # ??\n",
        "  av_k = mean(vk) # Grau Médio\n",
        "\n",
        "  A = nx.adjacency_matrix(G) #Criando matriz de adjacencia\n",
        "  A = A.todense() #ajustando a matrix\n",
        "  eig, vectors = LA.eig(A) # Calculando auto valores\n",
        "  lambda_max = eig.max() # Obtendo o maior auto valor\n",
        "\n",
        "  #>>Initial phases<<#\n",
        "  w0 = np.pi\n",
        "  y0 = np.random.normal(0, w0, size = N)\n",
        "\n",
        "  # Frequência Natural\n",
        "  W = np.random.uniform(-w0, w0, size = N)\n",
        "\n",
        "  # Acoplamento Crítico\n",
        "  hist, bin_edges = np.histogram(W, density=True)\n",
        "  g0 = max(hist)\n",
        "  lambda_c = 2/(np.pi*lambda_max*g0)\n",
        "\n",
        "  # Tempo de Integração\n",
        "  t0 = 0.0  # Inicio\n",
        "  h = 0.02 # Incremento\n",
        "  Np = 3000 # Numero de interações\n",
        "  tStop = int(Np*h) # Fim da Integração\n",
        "  t = linspace(t0,tStop,Np)\n",
        "\n",
        "  #>>Processo de Sincronização<<#\n",
        "  vlbd = []  # vetor que armazena a força de acoplamento\n",
        "  aux = 0\n",
        "  Ns = 1 # Numero de Simulações\n",
        "  vlbd = np.arange(0, 10*lambda_c, lambda_c/5) #variation of the coupling strength\n",
        "  mvr = np.zeros(shape=shape(vlbd))\n",
        "  for s in arange(0,Ns):\n",
        "      vr = []  # vector that stores the order parameter\n",
        "      for lbd in vlbd:\n",
        "          y = odeint(F, y0, t, (G, W, lbd))\n",
        "          y = np.array(y)\n",
        "          y = y[range(len(y)-round(0.9*len(y)),len(y)),:]\n",
        "          y = y.mean(0)\n",
        "          psi = mean(y)\n",
        "          r = abs((1.0/N)*sum(np.exp(1j*y)))\n",
        "          vr.append(r)\n",
        "          aux = aux + 1\n",
        "          #print(aux, \": \", lbd, r)\n",
        "          y0 = y # adiabatic increase\n",
        "      mvr = mvr + vr\n",
        "  mvr = mvr/Ns\n",
        "  vlbd = array(vlbd, dtype=float)\n",
        "  return vlbd,mvr,lambda_c,\n",
        "\n",
        "\n"
      ],
      "metadata": {
        "id": "f_MUrMz8ucK4"
      },
      "execution_count": 10,
      "outputs": []
    },
    {
      "cell_type": "code",
      "source": [
        "G_1 = nx.Graph()\n",
        "G_1 = rede_com_comunidades(partition_sizes,p_in,p_out,seed)\n",
        "vlbd_1,mvr,lambda_c = calculando_sincronizacao(G_1)\n",
        "\n",
        "G_2 = nx.Graph()\n",
        "G_2 = rede_eros_renie(N,p,seed)\n",
        "vlbd_2,mvr,lambda_c = calculando_sincronizacao(G_2)\n",
        "\n",
        "G_3 = nx.Graph()\n",
        "G_3 = rede_small_word(N, kappa, p, seed)\n",
        "vlbd_3,mvr,lambda_c = calculando_sincronizacao(G_3)\n",
        "\n",
        "G_4 = nx.Graph()\n",
        "G_4 = rede_barabasi_albert(N,m)\n",
        "vlbd_4,mvr,lambda_c = calculando_sincronizacao(G_4)\n",
        "\n",
        "G_5 = nx.Graph()\n",
        "G_5 = rede_waxman(N,m)\n",
        "vlbd_5,mvr,lambda_c = calculando_sincronizacao(G_5)\n",
        "\n",
        "G_6 = nx.Graph()\n",
        "G_6 = rede_com_comunidades_LFR(N, tau1, tau2, mu, kappa, minc, maxc)\n",
        "vlbd_5,mvr,lambda_c = calculando_sincronizacao(G_6)\n",
        "\n",
        "\n",
        "\n",
        "\n"
      ],
      "metadata": {
        "id": "mAFycGrYtLNW"
      },
      "execution_count": 11,
      "outputs": []
    },
    {
      "cell_type": "code",
      "source": [
        "# show the results\n",
        "\n",
        "plt.figure(figsize=(50,5))\n",
        "plt.plot(vlbd_1, mvr, '-o', color='red', linewidth=1 ) # Com Comunidades\n",
        "plt.plot(vlbd_2, mvr, '-o', color='blue', linewidth=1 ) # ER\n",
        "plt.plot(vlbd_3, mvr, '-o', color='green', linewidth=1 ) # SW\n",
        "plt.plot(vlbd_4, mvr, '-o', color='pink', linewidth=1 ) # BA\n",
        "plt.plot(vlbd_5, mvr, '-o', color='gray', linewidth=1 ) # WX\n",
        "plt.plot(vlbd_6, mvr, '-o', color='black', linewidth=1 ) # LFR\n",
        "\n",
        "\n",
        "\n",
        "\n",
        "\n",
        "plt.axvline(x =lambda_c)\n",
        "xlabel(r\"$\\lambda$\")\n",
        "ylabel(\"r\")\n",
        "#plt.legend(True)\n",
        "plt.plot(True)"
      ],
      "metadata": {
        "colab": {
          "base_uri": "https://localhost:8080/",
          "height": 484
        },
        "id": "i_S0eBngvf0c",
        "outputId": "4ab47753-5b57-4421-a3c6-b93c5fff1384"
      },
      "execution_count": 12,
      "outputs": [
        {
          "output_type": "execute_result",
          "data": {
            "text/plain": [
              "[<matplotlib.lines.Line2D at 0x7dc1bdaa2230>]"
            ]
          },
          "metadata": {},
          "execution_count": 12
        },
        {
          "output_type": "display_data",
          "data": {
            "text/plain": [
              "<Figure size 1000x500 with 1 Axes>"
            ],
            "image/png": "[encoded data removed]"
          },
          "metadata": {}
        }
      ]
    }
  ]
}